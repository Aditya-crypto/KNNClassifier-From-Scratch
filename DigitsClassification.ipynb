{
 "cells": [
  {
   "cell_type": "markdown",
   "metadata": {},
   "source": [
    "# KNNClassifier"
   ]
  },
  {
   "cell_type": "markdown",
   "metadata": {},
   "source": [
    "## Importing Packages"
   ]
  },
  {
   "cell_type": "code",
   "execution_count": null,
   "metadata": {},
   "outputs": [],
   "source": [
    "import pandas as pd\n",
    "import numpy as np\n",
    "import math\n",
    "from collections import Counter\n",
    "from sklearn.metrics import confusion_matrix\n",
    "from sklearn.metrics import f1_score\n",
    "from matplotlib import pyplot as plt"
   ]
  },
  {
   "cell_type": "markdown",
   "metadata": {},
   "source": [
    "## Splitting Dataset into training and validation set"
   ]
  },
  {
   "cell_type": "code",
   "execution_count": 4,
   "metadata": {},
   "outputs": [],
   "source": [
    "def train_test_split(df,test_size):\n",
    "    if(isinstance(test_size,float)==False):\n",
    "        print('pass test_size in percent/100')\n",
    "        return\n",
    "    test_size=math.floor(len(df)*test_size)\n",
    "    size=len(df)-test_size\n",
    "    global test_frame\n",
    "    global train_frame\n",
    "    global test_labels\n",
    "    global train_labels\n",
    "    test_frame=df.iloc[size:,1:].values\n",
    "    train_frame=df.iloc[:size,1:].values\n",
    "    test_labels=df.iloc[size:,:1].values\n",
    "    train_labels=df.iloc[:size,:1].values"
   ]
  },
  {
   "cell_type": "code",
   "execution_count": 6,
   "metadata": {},
   "outputs": [],
   "source": [
    "def count1(List): \n",
    "    occurence_count = Counter(List) \n",
    "    return occurence_count.most_common(1)[0][0]"
   ]
  },
  {
   "cell_type": "markdown",
   "metadata": {},
   "source": [
    "## Distance Metrics"
   ]
  },
  {
   "cell_type": "markdown",
   "metadata": {},
   "source": [
    "### Eucledian Distance"
   ]
  },
  {
   "cell_type": "code",
   "execution_count": 8,
   "metadata": {},
   "outputs": [],
   "source": [
    "def eucledianDist(train_frame,test_frame,train_labels,k):\n",
    "    predicted_label=[]\n",
    "    for i in test_frame:\n",
    "        result=[]\n",
    "        index=0\n",
    "        for j in train_frame:\n",
    "            eudist=0.0\n",
    "            val=np.linalg.norm(i-j)\n",
    "            result.append((val,int(train_labels[index])))\n",
    "            index+=1\n",
    "        result.sort()\n",
    "        klist=[]\n",
    "        for p in range(0,k):\n",
    "            klist.append(result[p][1])\n",
    "        resval=count1(klist)\n",
    "        predicted_label.append(resval)\n",
    "    return predicted_label    "
   ]
  },
  {
   "cell_type": "markdown",
   "metadata": {},
   "source": [
    "### Manhattan Distance"
   ]
  },
  {
   "cell_type": "code",
   "execution_count": 10,
   "metadata": {},
   "outputs": [],
   "source": [
    "def manhattan_dist(train_frame,test_frame,train_labels,k):\n",
    "    predicted_label=[]\n",
    "    for i in test_frame:\n",
    "        result=[]\n",
    "        index=0\n",
    "        for j in train_frame:\n",
    "            eudist=0.0\n",
    "            val=sum(abs(i-j))\n",
    "            result.append((val,int(train_labels[index])))\n",
    "            index+=1\n",
    "        result.sort()\n",
    "        klist=[]\n",
    "        for p in range(k+1):\n",
    "            klist.append(result[p][1])\n",
    "        resval=count1(klist)\n",
    "        predicted_label.append(resval)\n",
    "    return predicted_label"
   ]
  },
  {
   "cell_type": "code",
   "execution_count": 12,
   "metadata": {},
   "outputs": [],
   "source": [
    "def findAccuracy(predLabels,actualLabels):\n",
    "    count=0\n",
    "    actualSize=len(actualLabels)\n",
    "    #print(actualSize)\n",
    "    for i in range(len(predLabels)):\n",
    "        if(predLabels[i]==actualLabels[i]):\n",
    "            count+=1\n",
    "    accuracy=(count/actualSize)*100\n",
    "    print(accuracy)"
   ]
  },
  {
   "cell_type": "markdown",
   "metadata": {},
   "source": [
    "## Performances Metrics"
   ]
  },
  {
   "cell_type": "markdown",
   "metadata": {},
   "source": [
    "### Confusion Matrix and F1 Score"
   ]
  },
  {
   "cell_type": "code",
   "execution_count": 14,
   "metadata": {},
   "outputs": [
    {
     "name": "stdout",
     "output_type": "stream",
     "text": [
      "95.45\n",
      "[[414   0   2   0   0   2   1   0   0   1]\n",
      " [  0 453   7   2   3   0   1   3   7   1]\n",
      " [  0   1 347   1   0   1   1   0   1   0]\n",
      " [  0   1   3 387   0  10   0   0  10   2]\n",
      " [  0   1   0   0 371   1   0   2   1   5]\n",
      " [  0   0   1   7   0 335   4   0  11   2]\n",
      " [  2   0   5   0   3   6 370   0   2   1]\n",
      " [  0   2  10   1   0   0   0 388   0  12]\n",
      " [  0   0   2   5   0   3   0   0 349   0]\n",
      " [  0   0   2   3  15   4   0   4   4 404]]\n",
      "0.9545\n"
     ]
    }
   ],
   "source": [
    "df=pd.read_csv('train.csv',header=None)\n",
    "train_test_split(df,.2)\n",
    "# print(len(test_labels))\n",
    "predlist=eucledianDist(train_frame,test_frame,train_labels,3)\n",
    "# print(len(predlist))\n",
    "findAccuracy(predlist,test_labels)\n",
    "mat=confusion_matrix(predlist,test_labels)\n",
    "print (mat)\n",
    "score=f1_score(predlist,test_labels, average='micro')\n",
    "print(score)"
   ]
  },
  {
   "cell_type": "markdown",
   "metadata": {},
   "source": [
    "## Graphs"
   ]
  },
  {
   "cell_type": "code",
   "execution_count": null,
   "metadata": {},
   "outputs": [],
   "source": [
    "plt.figure(0)\n",
    "plt.suptitle('k-Nearest Neighbour Plot', fontsize=10)\n",
    "plt.plot(predlist)\n",
    "plt.xlabel('Neighbours', fontsize=16)\n",
    "plt.ylabel('Accuracy', fontsize=16)\n",
    "plt.rcParams['figure.figsize']=20,6\n",
    "plt.show()"
   ]
  },
  {
   "cell_type": "markdown",
   "metadata": {},
   "source": [
    "### Majority Voting Technique"
   ]
  },
  {
   "cell_type": "code",
   "execution_count": 17,
   "metadata": {},
   "outputs": [
    {
     "name": "stdout",
     "output_type": "stream",
     "text": [
      "1\n",
      "11.450000000000001\n"
     ]
    }
   ],
   "source": [
    "import statistics\n",
    "from statistics import mode\n",
    "df1=pd.read_csv('train.csv',header=None)\n",
    "train_test_split(df1,.2)\n",
    "listOfTrainLabels=[]\n",
    "for i in train_labels:\n",
    "    listOfTrainLabels.append(i[0])\n",
    "val=mode(listOfTrainLabels)\n",
    "print(val)\n",
    "predListMajorityVoting=[val]*len(test_labels)\n",
    "# print(predList)\n",
    "findAccuracy(predListMajorityVoting,test_labels)"
   ]
  },
  {
   "cell_type": "markdown",
   "metadata": {},
   "source": [
    "### Random Guessing voting Technique"
   ]
  },
  {
   "cell_type": "code",
   "execution_count": 19,
   "metadata": {},
   "outputs": [
    {
     "name": "stdout",
     "output_type": "stream",
     "text": [
      "9.925\n"
     ]
    }
   ],
   "source": [
    "import random  \n",
    "predListRandomguessing =[random.randrange(0, 10, 1) for i in range(len(test_labels))]\n",
    "# print(predListRandomguessing)\n",
    "findAccuracy(predListRandomguessing,test_labels)"
   ]
  },
  {
   "cell_type": "code",
   "execution_count": 20,
   "metadata": {},
   "outputs": [],
   "source": [
    "#random guessing performance on validation set\n",
    "#95.75 3 5 95.55 1 95.55"
   ]
  },
  {
   "cell_type": "markdown",
   "metadata": {},
   "source": [
    "## Accuracy using Scikit Learn library kNN classifier : "
   ]
  },
  {
   "cell_type": "code",
   "execution_count": 12,
   "metadata": {},
   "outputs": [
    {
     "name": "stdout",
     "output_type": "stream",
     "text": [
      "0.98075\n"
     ]
    }
   ],
   "source": [
    "from sklearn import metrics\n",
    "from sklearn.neighbors import KNeighborsClassifier\n",
    "df1=pd.read_csv('train.csv',header=None)\n",
    "output=df1.iloc[0:,0]\n",
    "x_train=df1.iloc[0:,1:]\n",
    "# print(output)\n",
    "def BuiltInKNN(k):\n",
    "        nearSat = KNeighborsClassifier(n_neighbors=k)\n",
    "        nearSat.fit(x_train,output)\n",
    "        y_pred = nearSat.predict(x_train)\n",
    "        print(metrics.accuracy_score(output, y_pred))\n",
    "        \n",
    "BuiltInKNN(3)\n",
    "\n"
   ]
  }
 ],
 "metadata": {
  "kernelspec": {
   "display_name": "Python 3",
   "language": "python",
   "name": "python3"
  },
  "language_info": {
   "codemirror_mode": {
    "name": "ipython",
    "version": 3
   },
   "file_extension": ".py",
   "mimetype": "text/x-python",
   "name": "python",
   "nbconvert_exporter": "python",
   "pygments_lexer": "ipython3",
   "version": "3.6.9"
  }
 },
 "nbformat": 4,
 "nbformat_minor": 4
}
